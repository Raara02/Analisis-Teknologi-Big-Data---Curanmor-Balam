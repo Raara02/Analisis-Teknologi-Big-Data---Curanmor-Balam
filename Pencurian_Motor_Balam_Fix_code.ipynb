{
  "nbformat": 4,
  "nbformat_minor": 0,
  "metadata": {
    "colab": {
      "provenance": []
    },
    "kernelspec": {
      "name": "python3",
      "display_name": "Python 3"
    },
    "language_info": {
      "name": "python"
    }
  },
  "cells": [
    {
      "cell_type": "code",
      "execution_count": null,
      "metadata": {
        "colab": {
          "base_uri": "https://localhost:8080/"
        },
        "id": "GqcEPcKSrEhL",
        "outputId": "7f20461b-09a5-49ce-ccd8-5e9726d3c1dc"
      },
      "outputs": [
        {
          "output_type": "stream",
          "name": "stdout",
          "text": [
            "Requirement already satisfied: pyspark in /usr/local/lib/python3.11/dist-packages (3.5.1)\n",
            "Requirement already satisfied: py4j==0.10.9.7 in /usr/local/lib/python3.11/dist-packages (from pyspark) (0.10.9.7)\n"
          ]
        }
      ],
      "source": [
        "!pip install pyspark"
      ]
    },
    {
      "cell_type": "code",
      "source": [
        "from pyspark.sql import SparkSession\n",
        "from pyspark.sql.functions import col, count, desc\n",
        "\n",
        "spark = SparkSession.builder \\\n",
        "    .appName(\"Analisis Pencurian Motor di Kota Bandar Lampung\") \\\n",
        "    .getOrCreate()"
      ],
      "metadata": {
        "id": "veoOXQBW1_9l"
      },
      "execution_count": null,
      "outputs": []
    },
    {
      "cell_type": "code",
      "source": [
        "from google.colab import files\n",
        "uploaded = files.upload()"
      ],
      "metadata": {
        "colab": {
          "base_uri": "https://localhost:8080/",
          "height": 73
        },
        "id": "3xwhlZ1U2H8l",
        "outputId": "58edcb71-8993-444e-ed6f-fe7b07c46401"
      },
      "execution_count": null,
      "outputs": [
        {
          "output_type": "display_data",
          "data": {
            "text/plain": [
              "<IPython.core.display.HTML object>"
            ],
            "text/html": [
              "\n",
              "     <input type=\"file\" id=\"files-e64eea40-3a35-4237-b329-eb71fbea8dc2\" name=\"files[]\" multiple disabled\n",
              "        style=\"border:none\" />\n",
              "     <output id=\"result-e64eea40-3a35-4237-b329-eb71fbea8dc2\">\n",
              "      Upload widget is only available when the cell has been executed in the\n",
              "      current browser session. Please rerun this cell to enable.\n",
              "      </output>\n",
              "      <script>// Copyright 2017 Google LLC\n",
              "//\n",
              "// Licensed under the Apache License, Version 2.0 (the \"License\");\n",
              "// you may not use this file except in compliance with the License.\n",
              "// You may obtain a copy of the License at\n",
              "//\n",
              "//      http://www.apache.org/licenses/LICENSE-2.0\n",
              "//\n",
              "// Unless required by applicable law or agreed to in writing, software\n",
              "// distributed under the License is distributed on an \"AS IS\" BASIS,\n",
              "// WITHOUT WARRANTIES OR CONDITIONS OF ANY KIND, either express or implied.\n",
              "// See the License for the specific language governing permissions and\n",
              "// limitations under the License.\n",
              "\n",
              "/**\n",
              " * @fileoverview Helpers for google.colab Python module.\n",
              " */\n",
              "(function(scope) {\n",
              "function span(text, styleAttributes = {}) {\n",
              "  const element = document.createElement('span');\n",
              "  element.textContent = text;\n",
              "  for (const key of Object.keys(styleAttributes)) {\n",
              "    element.style[key] = styleAttributes[key];\n",
              "  }\n",
              "  return element;\n",
              "}\n",
              "\n",
              "// Max number of bytes which will be uploaded at a time.\n",
              "const MAX_PAYLOAD_SIZE = 100 * 1024;\n",
              "\n",
              "function _uploadFiles(inputId, outputId) {\n",
              "  const steps = uploadFilesStep(inputId, outputId);\n",
              "  const outputElement = document.getElementById(outputId);\n",
              "  // Cache steps on the outputElement to make it available for the next call\n",
              "  // to uploadFilesContinue from Python.\n",
              "  outputElement.steps = steps;\n",
              "\n",
              "  return _uploadFilesContinue(outputId);\n",
              "}\n",
              "\n",
              "// This is roughly an async generator (not supported in the browser yet),\n",
              "// where there are multiple asynchronous steps and the Python side is going\n",
              "// to poll for completion of each step.\n",
              "// This uses a Promise to block the python side on completion of each step,\n",
              "// then passes the result of the previous step as the input to the next step.\n",
              "function _uploadFilesContinue(outputId) {\n",
              "  const outputElement = document.getElementById(outputId);\n",
              "  const steps = outputElement.steps;\n",
              "\n",
              "  const next = steps.next(outputElement.lastPromiseValue);\n",
              "  return Promise.resolve(next.value.promise).then((value) => {\n",
              "    // Cache the last promise value to make it available to the next\n",
              "    // step of the generator.\n",
              "    outputElement.lastPromiseValue = value;\n",
              "    return next.value.response;\n",
              "  });\n",
              "}\n",
              "\n",
              "/**\n",
              " * Generator function which is called between each async step of the upload\n",
              " * process.\n",
              " * @param {string} inputId Element ID of the input file picker element.\n",
              " * @param {string} outputId Element ID of the output display.\n",
              " * @return {!Iterable<!Object>} Iterable of next steps.\n",
              " */\n",
              "function* uploadFilesStep(inputId, outputId) {\n",
              "  const inputElement = document.getElementById(inputId);\n",
              "  inputElement.disabled = false;\n",
              "\n",
              "  const outputElement = document.getElementById(outputId);\n",
              "  outputElement.innerHTML = '';\n",
              "\n",
              "  const pickedPromise = new Promise((resolve) => {\n",
              "    inputElement.addEventListener('change', (e) => {\n",
              "      resolve(e.target.files);\n",
              "    });\n",
              "  });\n",
              "\n",
              "  const cancel = document.createElement('button');\n",
              "  inputElement.parentElement.appendChild(cancel);\n",
              "  cancel.textContent = 'Cancel upload';\n",
              "  const cancelPromise = new Promise((resolve) => {\n",
              "    cancel.onclick = () => {\n",
              "      resolve(null);\n",
              "    };\n",
              "  });\n",
              "\n",
              "  // Wait for the user to pick the files.\n",
              "  const files = yield {\n",
              "    promise: Promise.race([pickedPromise, cancelPromise]),\n",
              "    response: {\n",
              "      action: 'starting',\n",
              "    }\n",
              "  };\n",
              "\n",
              "  cancel.remove();\n",
              "\n",
              "  // Disable the input element since further picks are not allowed.\n",
              "  inputElement.disabled = true;\n",
              "\n",
              "  if (!files) {\n",
              "    return {\n",
              "      response: {\n",
              "        action: 'complete',\n",
              "      }\n",
              "    };\n",
              "  }\n",
              "\n",
              "  for (const file of files) {\n",
              "    const li = document.createElement('li');\n",
              "    li.append(span(file.name, {fontWeight: 'bold'}));\n",
              "    li.append(span(\n",
              "        `(${file.type || 'n/a'}) - ${file.size} bytes, ` +\n",
              "        `last modified: ${\n",
              "            file.lastModifiedDate ? file.lastModifiedDate.toLocaleDateString() :\n",
              "                                    'n/a'} - `));\n",
              "    const percent = span('0% done');\n",
              "    li.appendChild(percent);\n",
              "\n",
              "    outputElement.appendChild(li);\n",
              "\n",
              "    const fileDataPromise = new Promise((resolve) => {\n",
              "      const reader = new FileReader();\n",
              "      reader.onload = (e) => {\n",
              "        resolve(e.target.result);\n",
              "      };\n",
              "      reader.readAsArrayBuffer(file);\n",
              "    });\n",
              "    // Wait for the data to be ready.\n",
              "    let fileData = yield {\n",
              "      promise: fileDataPromise,\n",
              "      response: {\n",
              "        action: 'continue',\n",
              "      }\n",
              "    };\n",
              "\n",
              "    // Use a chunked sending to avoid message size limits. See b/62115660.\n",
              "    let position = 0;\n",
              "    do {\n",
              "      const length = Math.min(fileData.byteLength - position, MAX_PAYLOAD_SIZE);\n",
              "      const chunk = new Uint8Array(fileData, position, length);\n",
              "      position += length;\n",
              "\n",
              "      const base64 = btoa(String.fromCharCode.apply(null, chunk));\n",
              "      yield {\n",
              "        response: {\n",
              "          action: 'append',\n",
              "          file: file.name,\n",
              "          data: base64,\n",
              "        },\n",
              "      };\n",
              "\n",
              "      let percentDone = fileData.byteLength === 0 ?\n",
              "          100 :\n",
              "          Math.round((position / fileData.byteLength) * 100);\n",
              "      percent.textContent = `${percentDone}% done`;\n",
              "\n",
              "    } while (position < fileData.byteLength);\n",
              "  }\n",
              "\n",
              "  // All done.\n",
              "  yield {\n",
              "    response: {\n",
              "      action: 'complete',\n",
              "    }\n",
              "  };\n",
              "}\n",
              "\n",
              "scope.google = scope.google || {};\n",
              "scope.google.colab = scope.google.colab || {};\n",
              "scope.google.colab._files = {\n",
              "  _uploadFiles,\n",
              "  _uploadFilesContinue,\n",
              "};\n",
              "})(self);\n",
              "</script> "
            ]
          },
          "metadata": {}
        },
        {
          "output_type": "stream",
          "name": "stdout",
          "text": [
            "Saving kriminalitas_balam.csv to kriminalitas_balam.csv\n"
          ]
        }
      ]
    },
    {
      "cell_type": "code",
      "source": [
        "# 1. Drop NA dan duplikat dulu\n",
        "# Membaca data dari file CSV dan menyimpannya ke variabel cm\n",
        "cm = spark.read.csv(\"kriminalitas_balam.csv\", header=True, inferSchema=True)\n",
        "cm = cm.na.drop()\n",
        "cm = cm.dropDuplicates()\n",
        "\n",
        "# 2. Mapping Lokasi_Kejadian\n",
        "mapping = {\n",
        "    \"jalan umum\": \"Jalan Umum\",\n",
        "    \"jalanan umum\": \"Jalan Umum\",\n",
        "    \"tempat parkir\": \"Tempat Parkir\",\n",
        "    \"perkantoran\": \"Perkantoran\",\n",
        "    \"pertokoan/mal/pusat perbelanjaan\": \"Pusat Perbelanjaan\",\n",
        "    \"pasar\": \"Pasar\",\n",
        "    \"rumah\": \"Rumah\"\n",
        "}\n",
        "\n",
        "# Normalisasi dan Mapping Lokasi\n",
        "from pyspark.sql.functions import udf\n",
        "from pyspark.sql.types import StringType\n",
        "\n",
        "def map_lokasi(value):\n",
        "    if value is None:\n",
        "        return None\n",
        "    return mapping.get(value.strip().lower(), value.title())\n",
        "\n",
        "map_lokasi_udf = udf(map_lokasi, StringType())\n",
        "\n",
        "# Lakukan mapping lokasi\n",
        "cm = cm.withColumn(\"Lokasi_Kejadian\", map_lokasi_udf(col(\"Lokasi_Kejadian\")))\n",
        "\n",
        "# 3. tambahkan kolom Shift_Waktu (setelah semua kolom beres)\n",
        "from pyspark.sql.functions import when\n",
        "\n",
        "cm = cm.withColumn(\n",
        "    \"Shift_Waktu\",\n",
        "    when(col(\"Waktu_Kejadian\").between(\"04.00-04.59\", \"05.00-07.59\"), \"Pagi\")\n",
        "    .when(col(\"Waktu_Kejadian\").between(\"08.00-11.59\", \"11.59\"), \"Siang\")\n",
        "    .when(col(\"Waktu_Kejadian\").between(\"12.00-14.59\", \"14.59\"), \"Siang\")\n",
        "    .when(col(\"Waktu_Kejadian\").between(\"15.00-17.59\", \"17.59\"), \"Sore\")\n",
        "    .when(col(\"Waktu_Kejadian\").between(\"18.00-21.59\", \"21.59\"), \"Malam\")\n",
        "    .when(col(\"Waktu_Kejadian\").between(\"22.00-23.59\", \"23.59\"), \"Malam\")\n",
        "    .otherwise(\"Lainnya\")\n",
        ")"
      ],
      "metadata": {
        "id": "Ew8B4S9S2kPm"
      },
      "execution_count": null,
      "outputs": []
    },
    {
      "cell_type": "code",
      "source": [
        "kecamatan_mapping = {\n",
        "    \"tanjumg karang barat\": \"Tanjung Karang Barat\",\n",
        "    \"tanjung karang tiimur\": \"Tanjung Karang Timur\",\n",
        "    \"tanjung karang timur\": \"Tanjung Karang Timur\",\n",
        "    \"tanjung karang barat\": \"Tanjung Karang Barat\",\n",
        "    \"tanjung karang pusat\": \"Tanjung Karang Pusat\",\n",
        "    \"tanjung senang\": \"Tanjung Senang\",\n",
        "    \"teluk betung utara\": \"Teluk Betung Utara\",\n",
        "    \"teluk betungtimur\": \"Teluk Betung Timur\",\n",
        "}"
      ],
      "metadata": {
        "id": "eEf_PrwO5ia7"
      },
      "execution_count": null,
      "outputs": []
    },
    {
      "cell_type": "code",
      "source": [
        "from pyspark.sql.functions import udf, lower\n",
        "from pyspark.sql.types import StringType\n",
        "\n",
        "def map_kecamatan(value):\n",
        "    if value is None:\n",
        "        return None\n",
        "    return kecamatan_mapping.get(value.strip().lower(), value.title())\n",
        "\n",
        "map_kecamatan_udf = udf(map_kecamatan, StringType())"
      ],
      "metadata": {
        "id": "5vLyvZ7UOPnD"
      },
      "execution_count": null,
      "outputs": []
    },
    {
      "cell_type": "code",
      "source": [
        "cm = cm.withColumn(\"Kecamatan_Final\", map_kecamatan_udf(col(\"Kecamatan\")))"
      ],
      "metadata": {
        "id": "bIakpgN7Oju2"
      },
      "execution_count": null,
      "outputs": []
    },
    {
      "cell_type": "code",
      "source": [
        "cm = cm.drop(\"Kecamatan\") \\\n",
        "                   .withColumnRenamed(\"Kecamatan_Final\", \"Kecamatan\")"
      ],
      "metadata": {
        "id": "Yxq_I-UxOpMx"
      },
      "execution_count": null,
      "outputs": []
    },
    {
      "cell_type": "code",
      "source": [
        "cm.select(\"Kecamatan\", col(\"Kecamatan\").alias(\"Asli\")).distinct().rdd.map(lambda row: (row[\"Kecamatan\"], len(row[\"Kecamatan\"]))).collect()"
      ],
      "metadata": {
        "colab": {
          "base_uri": "https://localhost:8080/"
        },
        "id": "e0-jx7cLP0tA",
        "outputId": "610192b4-b376-42ad-8ea0-8a03dcaebb08"
      },
      "execution_count": null,
      "outputs": [
        {
          "output_type": "execute_result",
          "data": {
            "text/plain": [
              "[('Tanjung Senang', 14),\n",
              " ('Panjang', 7),\n",
              " ('Sukabumi', 8),\n",
              " ('Teluk Betung Timur', 18),\n",
              " ('Kedaton', 7),\n",
              " ('Tanjung Karang Barat', 20),\n",
              " ('Sukarame', 8),\n",
              " ('Teluk Betung Utara', 18),\n",
              " ('Tanjung Karang Timur', 20),\n",
              " ('Kemiling', 8),\n",
              " ('Tanjung Karang Pusat', 20),\n",
              " ('Teluk Betung Selatan', 20)]"
            ]
          },
          "metadata": {},
          "execution_count": 16
        }
      ]
    },
    {
      "cell_type": "code",
      "source": [
        "from pyspark.sql.functions import trim, regexp_replace\n",
        "\n",
        "cm = cm.withColumn(\"Kecamatan\", trim(col(\"Kecamatan\")))\n",
        "cm = cm.withColumn(\"Kecamatan\", regexp_replace(col(\"Kecamatan\"), \"\\u200b\", \"\"))"
      ],
      "metadata": {
        "id": "_hnJ6pTvP-AK"
      },
      "execution_count": null,
      "outputs": []
    },
    {
      "cell_type": "code",
      "source": [
        "waktu_mapping = {\n",
        "    \"04.00-04-59\": \"04.00-04.59\",\n",
        "    \"05.00-07.60\": \"05.00-07.59\",\n",
        "    \"08.00-11-59\": \"08.00-11.59\",\n",
        "    \"08.00-11.60\": \"08.00-11.59\",\n",
        "    \"08.00-11.62\": \"08.00-11.59\",\n",
        "    \"12.59-14.59\": \"12.00-14.59\"\n",
        "    # sisanya biarkan default\n",
        "}"
      ],
      "metadata": {
        "id": "LE_mqpRRRPbG"
      },
      "execution_count": null,
      "outputs": []
    },
    {
      "cell_type": "code",
      "source": [
        "from pyspark.sql.functions import udf, col\n",
        "from pyspark.sql.types import StringType\n",
        "\n",
        "def map_waktu(value):\n",
        "    if value is None:\n",
        "        return None\n",
        "    return waktu_mapping.get(value.strip(), value.strip())\n",
        "\n",
        "map_waktu_udf = udf(map_waktu, StringType())\n",
        "\n",
        "cm = cm.withColumn(\"Waktu_Kejadian\", map_waktu_udf(col(\"Waktu_Kejadian\")))"
      ],
      "metadata": {
        "id": "4q9SNgjHRRzP"
      },
      "execution_count": null,
      "outputs": []
    },
    {
      "cell_type": "code",
      "source": [
        "cm.select(\"Waktu_Kejadian\").distinct().orderBy(\"Waktu_Kejadian\").show(truncate=False)"
      ],
      "metadata": {
        "colab": {
          "base_uri": "https://localhost:8080/"
        },
        "id": "B9NE51vhRl5S",
        "outputId": "05416e24-ca40-4394-f8ae-a3521f7a5a87"
      },
      "execution_count": null,
      "outputs": [
        {
          "output_type": "stream",
          "name": "stdout",
          "text": [
            "+--------------+\n",
            "|Waktu_Kejadian|\n",
            "+--------------+\n",
            "|04.00-04.59   |\n",
            "|05.00-07.59   |\n",
            "|08.00-11.59   |\n",
            "|12.00-14.59   |\n",
            "|15.00-17.59   |\n",
            "|18.00-21.59   |\n",
            "|22.00-23.59   |\n",
            "+--------------+\n",
            "\n"
          ]
        }
      ]
    },
    {
      "cell_type": "code",
      "source": [
        "cm.printSchema()\n",
        "cm.select(\"Shift_Waktu\").distinct().orderBy(\"Shift_Waktu\").show(truncate=False)"
      ],
      "metadata": {
        "colab": {
          "base_uri": "https://localhost:8080/"
        },
        "id": "sm9VIXuERzOB",
        "outputId": "77493ed6-4880-487c-f3fb-e39cf0db8fb7"
      },
      "execution_count": null,
      "outputs": [
        {
          "output_type": "stream",
          "name": "stdout",
          "text": [
            "root\n",
            " |-- Tahun: integer (nullable = true)\n",
            " |-- Bulan: string (nullable = true)\n",
            " |-- Jenis_Kejahatan: string (nullable = true)\n",
            " |-- Lokasi_Kejadian: string (nullable = true)\n",
            " |-- Waktu_Kejadian: string (nullable = true)\n",
            " |-- Jumlah_kasus: integer (nullable = true)\n",
            " |-- Shift_Waktu: string (nullable = false)\n",
            " |-- Kecamatan: string (nullable = true)\n",
            "\n",
            "+-----------+\n",
            "|Shift_Waktu|\n",
            "+-----------+\n",
            "|Lainnya    |\n",
            "|Malam      |\n",
            "|Pagi       |\n",
            "|Siang      |\n",
            "|Sore       |\n",
            "+-----------+\n",
            "\n"
          ]
        }
      ]
    },
    {
      "cell_type": "code",
      "source": [
        "# Simpan DataFrame ke CSV (dalam 1 file saja)\n",
        "cm.coalesce(1).write.csv(\"/content/hasil_clean.csv\", header=True, mode=\"overwrite\")\n",
        "\n",
        "# Rename file CSV dari folder output Spark\n",
        "import shutil\n",
        "import glob\n",
        "\n",
        "# Ambil nama file yang di-generate Spark\n",
        "csv_file = glob.glob(\"/content/hasil_clean.csv/part-*.csv\")[0]\n",
        "\n",
        "# Rename file ke nama final\n",
        "shutil.move(csv_file, \"/content/hasil_clean_final.csv\")\n",
        "\n",
        "# Download file ke komputer kamu\n",
        "from google.colab import files\n",
        "files.download(\"/content/hasil_clean_final.csv\")"
      ],
      "metadata": {
        "colab": {
          "base_uri": "https://localhost:8080/",
          "height": 17
        },
        "id": "U9qe7aT8UHyl",
        "outputId": "7d771a78-dc90-492b-dc6c-3ae6514a5832"
      },
      "execution_count": null,
      "outputs": [
        {
          "output_type": "display_data",
          "data": {
            "text/plain": [
              "<IPython.core.display.Javascript object>"
            ],
            "application/javascript": [
              "\n",
              "    async function download(id, filename, size) {\n",
              "      if (!google.colab.kernel.accessAllowed) {\n",
              "        return;\n",
              "      }\n",
              "      const div = document.createElement('div');\n",
              "      const label = document.createElement('label');\n",
              "      label.textContent = `Downloading \"${filename}\": `;\n",
              "      div.appendChild(label);\n",
              "      const progress = document.createElement('progress');\n",
              "      progress.max = size;\n",
              "      div.appendChild(progress);\n",
              "      document.body.appendChild(div);\n",
              "\n",
              "      const buffers = [];\n",
              "      let downloaded = 0;\n",
              "\n",
              "      const channel = await google.colab.kernel.comms.open(id);\n",
              "      // Send a message to notify the kernel that we're ready.\n",
              "      channel.send({})\n",
              "\n",
              "      for await (const message of channel.messages) {\n",
              "        // Send a message to notify the kernel that we're ready.\n",
              "        channel.send({})\n",
              "        if (message.buffers) {\n",
              "          for (const buffer of message.buffers) {\n",
              "            buffers.push(buffer);\n",
              "            downloaded += buffer.byteLength;\n",
              "            progress.value = downloaded;\n",
              "          }\n",
              "        }\n",
              "      }\n",
              "      const blob = new Blob(buffers, {type: 'application/binary'});\n",
              "      const a = document.createElement('a');\n",
              "      a.href = window.URL.createObjectURL(blob);\n",
              "      a.download = filename;\n",
              "      div.appendChild(a);\n",
              "      a.click();\n",
              "      div.remove();\n",
              "    }\n",
              "  "
            ]
          },
          "metadata": {}
        },
        {
          "output_type": "display_data",
          "data": {
            "text/plain": [
              "<IPython.core.display.Javascript object>"
            ],
            "application/javascript": [
              "download(\"download_860ae68b-37dd-4932-bc21-664428c94f5b\", \"hasil_clean_final.csv\", 30109)"
            ]
          },
          "metadata": {}
        }
      ]
    },
    {
      "cell_type": "code",
      "source": [],
      "metadata": {
        "id": "3FEt3xHY2O5e"
      },
      "execution_count": null,
      "outputs": []
    }
  ]
}